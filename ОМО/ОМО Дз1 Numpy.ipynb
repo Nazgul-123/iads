{
  "nbformat": 4,
  "nbformat_minor": 0,
  "metadata": {
    "colab": {
      "provenance": []
    },
    "kernelspec": {
      "name": "python3",
      "display_name": "Python 3"
    },
    "language_info": {
      "name": "python"
    }
  },
  "cells": [
    {
      "cell_type": "markdown",
      "source": [
        "# 1 задание "
      ],
      "metadata": {
        "id": "2vJe4ldccEHJ"
      }
    },
    {
      "cell_type": "markdown",
      "source": [
        "импорт необходимой для работы с массивами библиотеки"
      ],
      "metadata": {
        "id": "FKGHKiybcMrZ"
      }
    },
    {
      "cell_type": "code",
      "source": [
        "import numpy as np"
      ],
      "metadata": {
        "id": "oL56hJXzSkRw"
      },
      "execution_count": null,
      "outputs": []
    },
    {
      "cell_type": "markdown",
      "source": [
        "Функция, возвращающая округленную взвешенную сумму оценок по данным оценкам и весам. "
      ],
      "metadata": {
        "id": "I3FlgUgccK0y"
      }
    },
    {
      "cell_type": "code",
      "execution_count": null,
      "metadata": {
        "id": "JeFtBA_3Shce"
      },
      "outputs": [],
      "source": [
        "def result_mark(weights: np.array, marks: np.array) -> int:\n",
        "    return np.round(np.sum(weights*marks))"
      ]
    },
    {
      "cell_type": "markdown",
      "source": [
        "Тест 1"
      ],
      "metadata": {
        "id": "upqlO-SkccK9"
      }
    },
    {
      "cell_type": "code",
      "source": [
        "weights = np.array([0.3, 0.4, 0.2, 0.1])\n",
        "marks = np.array([7, 10, 8, 6])\n",
        "assert result_mark(weights, marks) == 8"
      ],
      "metadata": {
        "id": "i8nymPGWTtDA"
      },
      "execution_count": null,
      "outputs": []
    },
    {
      "cell_type": "markdown",
      "source": [
        "Тест 2"
      ],
      "metadata": {
        "id": "fO4xXu2PcaHu"
      }
    },
    {
      "cell_type": "code",
      "source": [
        "weights = np.array([0.3, 0.4, 0.2, 0.1])\n",
        "marks = np.array([7, 0, 8, 6])\n",
        "\n",
        "assert result_mark(weights, marks) == 4"
      ],
      "metadata": {
        "id": "afvFteuuTuyl"
      },
      "execution_count": null,
      "outputs": []
    },
    {
      "cell_type": "markdown",
      "source": [
        "# Задание 2"
      ],
      "metadata": {
        "id": "nLX2SjXOdegL"
      }
    },
    {
      "cell_type": "markdown",
      "source": [
        "Функция, меняющая каждое третье (начиная с 0) значение массива целых чисел на заданное число. "
      ],
      "metadata": {
        "id": "aPkwOObHdhBQ"
      }
    },
    {
      "cell_type": "code",
      "source": [
        "def change_array(array: np.array, number: int) -> np.array:\n",
        "    array[::3] = number\n",
        "    return array"
      ],
      "metadata": {
        "id": "QlDenUvgdzkw"
      },
      "execution_count": null,
      "outputs": []
    },
    {
      "cell_type": "markdown",
      "source": [
        "Тест 1"
      ],
      "metadata": {
        "id": "XGg_TqPwdmHv"
      }
    },
    {
      "cell_type": "code",
      "source": [
        "array = np.array([3, 5, 1, 0, -3, 22, 213436])\n",
        "number = -111\n",
        "\n",
        "assert np.allclose(change_array(array, number), np.array([-111, 5, 1, -111, -3, 22, -111]))"
      ],
      "metadata": {
        "id": "_UhZgYe_dsfV"
      },
      "execution_count": null,
      "outputs": []
    },
    {
      "cell_type": "markdown",
      "source": [
        "Тест 2"
      ],
      "metadata": {
        "id": "D1_2-JHjdy1J"
      }
    },
    {
      "cell_type": "code",
      "source": [
        "array = np.array([3, 14, 15, 92, 6])\n",
        "number = 8\n",
        "\n",
        "assert np.allclose(change_array(array, number), np.array([8, 14, 15, 8, 6]))"
      ],
      "metadata": {
        "id": "2XuYq4edeWbi"
      },
      "execution_count": null,
      "outputs": []
    },
    {
      "cell_type": "markdown",
      "source": [
        "# 3 задание"
      ],
      "metadata": {
        "id": "hc3eMp4DilLA"
      }
    },
    {
      "cell_type": "markdown",
      "source": [
        "Функция, выдающая индексы «близких» элементов заданных массивов, а именно тех пар элементов, чей модуль разницы не превосходит заданного значения."
      ],
      "metadata": {
        "id": "lPfVoJmWioQb"
      }
    },
    {
      "cell_type": "code",
      "source": [
        "def find_close(array1: np.array, array2: np.array,\n",
        "               precision: float) -> np.array:  \n",
        "    return np.where(np.abs(array1-array2) <= precision)[0]"
      ],
      "metadata": {
        "id": "GCcas8yoiyFi"
      },
      "execution_count": null,
      "outputs": []
    },
    {
      "cell_type": "markdown",
      "source": [
        "1 тест"
      ],
      "metadata": {
        "id": "vHGdo-3GiqSj"
      }
    },
    {
      "cell_type": "code",
      "source": [
        "array1 = np.array([1.5, 0.5, 2, -4.1, -3, 6, -1])\n",
        "array2 = np.array([1.2, 0.5, 1, -4.0,  3, 0, -1.2])\n",
        "precision = 0.5\n",
        "\n",
        "res = find_close(array1, array2, precision)\n",
        "\n",
        "assert res.ndim == 1\n",
        "assert np.allclose(res, np.array([0, 1, 3, 6]))"
      ],
      "metadata": {
        "id": "jWZuMU1Uip2O"
      },
      "execution_count": null,
      "outputs": []
    },
    {
      "cell_type": "markdown",
      "source": [
        "2 тест"
      ],
      "metadata": {
        "id": "yp8s07zDitob"
      }
    },
    {
      "cell_type": "code",
      "source": [
        "array1 = np.array([3.1415, 2.7182, 1.6180, 6.6261])\n",
        "array2 = np.array([6.6730, 1.3807, -1,     6.0222])\n",
        "precision = 1.7\n",
        "res = find_close(array1, array2, precision)\n",
        "\n",
        "assert res.ndim == 1\n",
        "assert np.allclose(res, np.array([1, 3]))"
      ],
      "metadata": {
        "id": "L_zJtdSKiszl"
      },
      "execution_count": null,
      "outputs": []
    },
    {
      "cell_type": "markdown",
      "source": [
        "# 4 задание"
      ],
      "metadata": {
        "id": "dq20lmCURrMn"
      }
    },
    {
      "cell_type": "markdown",
      "source": [
        "Функция, которая составляет блочную матрицу из четырех блоков, где каждый блок - это заданная матрица."
      ],
      "metadata": {
        "id": "HIfHJASDRtR_"
      }
    },
    {
      "cell_type": "code",
      "source": [
        "def block_matrix(block: np.array) -> np.array:\n",
        "    return np.tile(block,[2,2])"
      ],
      "metadata": {
        "id": "uyopNkfdRwhA"
      },
      "execution_count": null,
      "outputs": []
    },
    {
      "cell_type": "markdown",
      "source": [
        "1 тест"
      ],
      "metadata": {
        "id": "ysykOe4_Rvp4"
      }
    },
    {
      "cell_type": "code",
      "source": [
        "block = np.array([[1, 3, 3], [7, 0, 0]])\n",
        "\n",
        "assert np.allclose(\n",
        "    block_matrix(block),\n",
        "    np.array([[1, 3, 3, 1, 3, 3],\n",
        "              [7, 0, 0, 7, 0, 0],\n",
        "              [1, 3, 3, 1, 3, 3],\n",
        "              [7, 0, 0, 7, 0, 0]])\n",
        ")"
      ],
      "metadata": {
        "id": "AR0tAyigRzvq"
      },
      "execution_count": null,
      "outputs": []
    },
    {
      "cell_type": "markdown",
      "source": [
        "# 5 задание"
      ],
      "metadata": {
        "id": "HhXz-mIpC5zk"
      }
    },
    {
      "cell_type": "markdown",
      "source": [
        "Функция, вычисляющая произведение всех ненулевых диагональных элементов на диагонали данной квадратной матрицы. "
      ],
      "metadata": {
        "id": "PVOUzbQ9DElD"
      }
    },
    {
      "cell_type": "code",
      "source": [
        "def diag_prod(matrix: np.array) -> int:\n",
        "    t = np.copy(np.diag(matrix))\n",
        "    t[t == 0] = 1\n",
        "    return np.prod(t)"
      ],
      "metadata": {
        "id": "RoPFkHyLDHf0"
      },
      "execution_count": null,
      "outputs": []
    },
    {
      "cell_type": "markdown",
      "source": [
        "1 тест"
      ],
      "metadata": {
        "id": "UYTT-kWsDLfx"
      }
    },
    {
      "cell_type": "code",
      "source": [
        "matrix = np.array([[0, 1, 2, 3],\n",
        "                   [4, 5, 6, 7],\n",
        "                   [8, 9, 10, 11],\n",
        "                   [12, 13, 14, 15]])\n",
        "\n",
        "assert diag_prod(matrix) == 750"
      ],
      "metadata": {
        "id": "b-YXK2Q0DM3g"
      },
      "execution_count": null,
      "outputs": []
    },
    {
      "cell_type": "markdown",
      "source": [
        "# 6 задание"
      ],
      "metadata": {
        "id": "EEGxIOflI8BR"
      }
    },
    {
      "cell_type": "markdown",
      "source": [
        "Функцая, нормализующая входящую матрицу (по столбцам)."
      ],
      "metadata": {
        "id": "1fcX8oBVI_VL"
      }
    },
    {
      "cell_type": "code",
      "source": [
        "def normalize(matrix: np.array) -> np.array:\n",
        "    t = np.copy( np.std(matrix, axis = 0))\n",
        "    t[t == 0] = 1 \n",
        "    return (matrix - np.mean(matrix, axis = 0)) / t"
      ],
      "metadata": {
        "id": "XTfpaWxTI-7a"
      },
      "execution_count": null,
      "outputs": []
    },
    {
      "cell_type": "markdown",
      "source": [
        "1 тест"
      ],
      "metadata": {
        "id": "f5n9mmH8Jnph"
      }
    },
    {
      "cell_type": "code",
      "source": [
        "matrix = np.array([[1, 4, 4200], [0, 10, 5000], [1, 2, 1000]])\n",
        "\n",
        "assert np.allclose(\n",
        "    normalize(matrix),\n",
        "    np.array([[ 0.7071, -0.39223,  0.46291],\n",
        "              [-1.4142,  1.37281,  0.92582],\n",
        "              [ 0.7071, -0.98058, -1.38873]])\n",
        ")"
      ],
      "metadata": {
        "id": "nimKwUD4Jrs7"
      },
      "execution_count": null,
      "outputs": []
    },
    {
      "cell_type": "markdown",
      "source": [
        "2 тест"
      ],
      "metadata": {
        "id": "URcMKfHTJsyN"
      }
    },
    {
      "cell_type": "code",
      "source": [
        "matrix = np.array([[-7, 2, 42], [2, 10, 50], [5, 4, 10]])\n",
        "\n",
        "assert np.allclose(\n",
        "    normalize(matrix),\n",
        "    np.array([[-1.37281, -0.98058,  0.46291],\n",
        "              [ 0.39223,  1.37281,  0.92582],\n",
        "              [ 0.98058, -0.39223, -1.38873]])\n",
        ")"
      ],
      "metadata": {
        "id": "Z1WdpgQvJvYE"
      },
      "execution_count": null,
      "outputs": []
    },
    {
      "cell_type": "markdown",
      "source": [
        "# 7 задание"
      ],
      "metadata": {
        "id": "u54eMfe9UZQ1"
      }
    },
    {
      "cell_type": "markdown",
      "source": [
        "Функция, возвращающая максимальный элемент в векторе x среди элементов, перед которыми стоит нулевой."
      ],
      "metadata": {
        "id": "yWtJ-RfbUbYz"
      }
    },
    {
      "cell_type": "code",
      "source": [
        "def prevZeroMax(matrix: np.array) -> int:\n",
        "    zero = matrix==0\n",
        "    return matrix[1:][zero[:-1]].max()"
      ],
      "metadata": {
        "id": "gPBPUCt4Uk4U"
      },
      "execution_count": null,
      "outputs": []
    },
    {
      "cell_type": "markdown",
      "source": [
        "1 тест"
      ],
      "metadata": {
        "id": "K90cIRsDUnWe"
      }
    },
    {
      "cell_type": "code",
      "source": [
        "coefs = np.array([6, 2, 0, 3, 0, 0, 5, 7, 0])\n",
        "\n",
        "assert  prevZeroMax(coefs) == 5"
      ],
      "metadata": {
        "id": "UV5VX84jUpol"
      },
      "execution_count": null,
      "outputs": []
    },
    {
      "cell_type": "markdown",
      "source": [
        "2 тест"
      ],
      "metadata": {
        "id": "w6UfneANUsED"
      }
    },
    {
      "cell_type": "code",
      "source": [
        "coefs = np.array([1, 0, 1, 0, 4, 2, 0])\n",
        "\n",
        "assert prevZeroMax(coefs) == 4"
      ],
      "metadata": {
        "id": "7khuO-5wUtEi"
      },
      "execution_count": null,
      "outputs": []
    },
    {
      "cell_type": "markdown",
      "source": [
        "# Задание 8"
      ],
      "metadata": {
        "id": "cVITo_WfbB6O"
      }
    },
    {
      "cell_type": "markdown",
      "source": [
        "Функция, делающая данную треугольную матрицу симметричной."
      ],
      "metadata": {
        "id": "eLBEOLFdbDgX"
      }
    },
    {
      "cell_type": "code",
      "source": [
        "def make_symmetric(matrix: np.array) -> np.array:\n",
        "    return np.where( matrix > 0, matrix, matrix.T)"
      ],
      "metadata": {
        "id": "2eT9d1RsbJhO"
      },
      "execution_count": null,
      "outputs": []
    },
    {
      "cell_type": "markdown",
      "source": [
        "1 тест"
      ],
      "metadata": {
        "id": "YxhWfJhwbJ53"
      }
    },
    {
      "cell_type": "code",
      "source": [
        "matrix = np.array([[1, 2, 3, 4], [0, 5, 6, 7], [0, 0, 8, 9], [0, 0, 0, 10]])\n",
        "\n",
        "assert np.allclose(\n",
        "    make_symmetric(matrix),\n",
        "    np.array([[ 1,  2,  3,  4],\n",
        "              [ 2,  5,  6,  7],\n",
        "              [ 3,  6,  8,  9],\n",
        "              [ 4,  7,  9, 10]])\n",
        ")"
      ],
      "metadata": {
        "id": "wXNxPz9HbLZh"
      },
      "execution_count": null,
      "outputs": []
    },
    {
      "cell_type": "markdown",
      "source": [
        "2 тест"
      ],
      "metadata": {
        "id": "_vQUFTBkbSnl"
      }
    },
    {
      "cell_type": "code",
      "source": [
        "matrix = np.array([[10, 21, 32, 49], [0, 53, 62, 78], [0, 0, 82, 92], [0, 0, 0, 10]])\n",
        "\n",
        "assert np.allclose(\n",
        "    make_symmetric(matrix),\n",
        "    np.array([[10, 21, 32, 49],\n",
        "              [21, 53, 62, 78],\n",
        "              [32, 62, 82, 92],\n",
        "              [49, 78, 92, 10]])\n",
        ")"
      ],
      "metadata": {
        "id": "MownPPutbTyI"
      },
      "execution_count": null,
      "outputs": []
    },
    {
      "cell_type": "markdown",
      "source": [
        "# 9 задание"
      ],
      "metadata": {
        "id": "Wwe3mMczdnHA"
      }
    },
    {
      "cell_type": "markdown",
      "source": [
        "Функция, создающая прямоугольную матрицу из m одинаковых строк, заполненных последовательными натуральными числами от a до b включительно в возрастающем порядке."
      ],
      "metadata": {
        "id": "U-NsM0IwdorQ"
      }
    },
    {
      "cell_type": "code",
      "source": [
        "def construct_matrix(m: int, a: int, b: int) -> np.array:\n",
        "    return np.reshape(np.tile(np.arange(a, b+1),m),(m, b - a + 1))"
      ],
      "metadata": {
        "id": "5ypdPWx2d2lU"
      },
      "execution_count": null,
      "outputs": []
    },
    {
      "cell_type": "markdown",
      "source": [
        "1 тест"
      ],
      "metadata": {
        "id": "HOxwdmF0d3X0"
      }
    },
    {
      "cell_type": "code",
      "source": [
        "m = 5\n",
        "a = 3\n",
        "b = 10\n",
        "\n",
        "assert np.allclose(\n",
        "    construct_matrix(m, a, b),\n",
        "    np.array([[ 3,  4,  5,  6,  7,  8,  9, 10],\n",
        "              [ 3,  4,  5,  6,  7,  8,  9, 10],\n",
        "              [ 3,  4,  5,  6,  7,  8,  9, 10],\n",
        "              [ 3,  4,  5,  6,  7,  8,  9, 10],\n",
        "              [ 3,  4,  5,  6,  7,  8,  9, 10]])\n",
        ")"
      ],
      "metadata": {
        "id": "ssVGDuihd5oL"
      },
      "execution_count": null,
      "outputs": []
    },
    {
      "cell_type": "markdown",
      "source": [
        "2 тест"
      ],
      "metadata": {
        "id": "PRnMziipd8qd"
      }
    },
    {
      "cell_type": "code",
      "source": [
        "m = 3\n",
        "a = 2\n",
        "b = 6\n",
        "\n",
        "assert np.allclose(\n",
        "    construct_matrix(m, a, b),\n",
        "    np.array([[2, 3, 4, 5, 6],\n",
        "              [2, 3, 4, 5, 6],\n",
        "              [2, 3, 4, 5, 6]])\n",
        ")"
      ],
      "metadata": {
        "id": "_v6NUK40d9kk"
      },
      "execution_count": null,
      "outputs": []
    },
    {
      "cell_type": "markdown",
      "source": [
        "# 10 задание"
      ],
      "metadata": {
        "id": "0KcnAOzThEe1"
      }
    },
    {
      "cell_type": "markdown",
      "source": [
        "Функция, вычисляющая косинусную близость двух векторов. "
      ],
      "metadata": {
        "id": "VcwcqjqJhG4c"
      }
    },
    {
      "cell_type": "code",
      "source": [
        "def cosine_similarity(vec1: np.array, vec2: np.array) -> float:\n",
        "    return np.dot (vec1, vec2)/( np.linalg.norm (vec1) * np.linalg.norm (vec2))"
      ],
      "metadata": {
        "id": "AVhGY87khOCp"
      },
      "execution_count": null,
      "outputs": []
    },
    {
      "cell_type": "markdown",
      "source": [
        "1 тест"
      ],
      "metadata": {
        "id": "tFBKo8EnhSY_"
      }
    },
    {
      "cell_type": "code",
      "source": [
        "vec1 = np.array([-2, 1,  0, -5, 4, 3, -3])\n",
        "vec2 = np.array([ 0, 2, -2, 10, 6, 0,  0])\n",
        "\n",
        "assert np.allclose(cosine_similarity(vec1, vec2), -0.25)"
      ],
      "metadata": {
        "id": "0MtjzcOChT7U"
      },
      "execution_count": null,
      "outputs": []
    },
    {
      "cell_type": "markdown",
      "source": [
        "2 тест"
      ],
      "metadata": {
        "id": "MjDXZ_snhUdX"
      }
    },
    {
      "cell_type": "code",
      "source": [
        "vec1 = np.array([-4, 2,  9, -8, 9, 0, -2])\n",
        "vec2 = np.array([ 3, 2, -4, -1, 3, 2,  2])\n",
        "\n",
        "assert np.allclose(cosine_similarity(vec1, vec2), -0.119929)"
      ],
      "metadata": {
        "id": "HzvNyIRJhVth"
      },
      "execution_count": null,
      "outputs": []
    }
  ]
}
